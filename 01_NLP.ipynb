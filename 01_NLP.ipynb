{
  "nbformat": 4,
  "nbformat_minor": 0,
  "metadata": {
    "colab": {
      "name": "01_NLP.ipynb",
      "provenance": [],
      "authorship_tag": "ABX9TyPGpuNrIda/reN+58IqDuPI",
      "include_colab_link": true
    },
    "kernelspec": {
      "name": "python3",
      "display_name": "Python 3"
    },
    "language_info": {
      "name": "python"
    }
  },
  "cells": [
    {
      "cell_type": "markdown",
      "metadata": {
        "id": "view-in-github",
        "colab_type": "text"
      },
      "source": [
        "<a href=\"https://colab.research.google.com/github/bugatha1/NLP/blob/main/01_NLP.ipynb\" target=\"_parent\"><img src=\"https://colab.research.google.com/assets/colab-badge.svg\" alt=\"Open In Colab\"/></a>"
      ]
    },
    {
      "cell_type": "markdown",
      "source": [
        "#FastText\n",
        "It's a library for efficient text classification and representation learning.\n",
        "FastText is an open-source, free, lightweight library that allows users to learn text representations and text classifiers. It works on standard, generic hardware. Models can later be reduced in size to even fit on mobile devices."
      ],
      "metadata": {
        "id": "Uvwg44DP4MBf"
      }
    },
    {
      "cell_type": "markdown",
      "source": [
        "#BlazingText Alogrithm: \n",
        "It has highly optimized implementations for both Word2vec (unsupervised) and text classification (supervised)."
      ],
      "metadata": {
        "id": "YvIVHUE848JZ"
      }
    },
    {
      "cell_type": "markdown",
      "source": [
        "BlazingText is a GPU-accelerated version of FastText. FastText (https://fasttext.cc/) is an open source library that can perform both word embedding generation (unsupervised) and text classification (supervised). The models created by BlazingText and FastText are compatible with each other."
      ],
      "metadata": {
        "id": "v3GumQcn8jD2"
      }
    }
  ]
}